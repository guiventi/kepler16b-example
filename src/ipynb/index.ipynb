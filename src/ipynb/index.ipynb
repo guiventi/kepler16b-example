{
 "cells": [
  {
   "cell_type": "markdown",
   "metadata": {},
   "source": [
    "# Kepler16b\n",
    "The Kepler16b project is developing a hypothetical mission to an exoplanet that is millions of light years away."
   ]
  },
  {
   "cell_type": "markdown",
   "metadata": {},
   "source": [
    "## Missions\n",
    "The Kepler16b project delivers two missions: [a Lander Mission](doc/example.com/tutorial2/description/missions/lander.html) and an [Orbiter Mission](doc/example.com/tutorial2/description/missions/orbiter.html), each of which pursues a number of objectives. For details, check the [full documentation](doc).\n"
   ]
  },
  {
   "cell_type": "code",
   "execution_count": 35,
   "metadata": {},
   "outputs": [],
   "source": [
    "# Rodar apenas uma vez\n",
    "# pip install pandas\n",
    "#  pip install PlantUML\n",
    "# pip install igraph"
   ]
  },
  {
   "cell_type": "code",
   "execution_count": 36,
   "metadata": {},
   "outputs": [
    {
     "data": {
      "text/html": [
       "\n",
       "<style>\n",
       ".node circle {\n",
       "fill: #fff;\n",
       "stroke: steelblue;\n",
       "stroke-width: 3px;\n",
       "}\n",
       ".node text {\n",
       "font: 12px sans-serif;\n",
       "}\n",
       ".link {\n",
       "fill: none;\n",
       "stroke: #ccc;\n",
       "stroke-width: 1px;\n",
       "}\n",
       "</style>\n",
       "<div id='figure3'></div>\n",
       "<script type=\"module\">\n",
       "import * as d3 from \"https://cdn.jsdelivr.net/npm/d3@7/+esm\";\n",
       "function drawTree(data, containerID, root_name, unique=true, _width=960, _height=500, depthMultiplier=180) {\n",
       "\n",
       "\tfunction getOrCreateNode(id, name, dict){\n",
       "\t\tvar node = dict[id];\n",
       "\t\tif (!node){\n",
       "\t\t\tnode = {}\n",
       "\t\t\tnode.id  = id;\n",
       "\t\t\tnode.name = name;\n",
       "\t\t\tdict[id] = node;\n",
       "\t\t}\n",
       "\t\treturn node;\n",
       "\t}\n",
       "\t\n",
       "\tfunction addNode(parentid, id, name, dict){\n",
       "\t\tvar parent = dict[parentid];\n",
       "\t\tvar node = dict[id];\n",
       "\t\tif (!node){\n",
       "\t\t\tnode = getOrCreateNode(id,name,dict);\n",
       "\t\t\tnode.parent = parent.id;\n",
       "\t\t\tif (!parent.children){\n",
       "\t\t\t\tparent.children = [];\n",
       "\t\t\t}\n",
       "\t\t\tparent.children.push(node);\n",
       "\t\t}\n",
       "\t\treturn node;\n",
       "\t}\n",
       "\t\n",
       "\tfunction transform(data){\n",
       "\t\tvar idToNode = [];\n",
       "\t\tvar root = getOrCreateNode(\"-1\",root_name,idToNode);\n",
       "\t\troot.parent = \"null\";\n",
       "\t\tvar columns = [ \"m_id\" , \"m_name\" , \"o_id\" , \"o_name\" ];\n",
       "\t\tdata.forEach(row => {\n",
       "\t\t\tvar parent_id = \"-1\";\n",
       "\t\t\tfor (let i = 0; i < columns.length/2; i++) {\n",
       "\t\t\t\tif (row[columns[2*i]]) {\n",
       "\t\t\t\t\tvar childId = (!unique ? parent_id+\".\" : \"\") +row[columns[2*i]];\n",
       "\t\t\t\t\taddNode(parent_id, childId, row[columns[2*i]]+\" \"+row[columns[2*i+1]], idToNode);\n",
       "\t\t\t\t\tparent_id = childId;\n",
       "\t\t\t\t}\n",
       "\t\t\t}\n",
       "\t\t});\t\n",
       "\t\treturn root;\n",
       "\t}\n",
       "\t\n",
       "\tfunction getVal(d){\n",
       "\t\treturn d.value + (d.children ? d.data.value : 0);\n",
       "\t}\n",
       "\n",
       "\t\n",
       "\tvar treeData = transform(data);\n",
       "\n",
       "\t// ************** Generate the tree diagram\t *****************\n",
       "\tvar margin = {top: 20, right: 120, bottom: 20, left: 120},\n",
       "\t\twidth = _width - margin.right - margin.left,\n",
       "\t\theight = _height - margin.top - margin.bottom;\n",
       "\t\t\n",
       "\tvar i = 0,\n",
       "\t\troot;\n",
       "\t\t\n",
       "\t\t\n",
       "\tvar root = d3.hierarchy(treeData)\n",
       "\t\t\t.sum(d => d.value)\n",
       "\t\t\t.sort((a, b) => b.value - a.value)\n",
       "\t\t\t\n",
       "\tvar tree = d3.tree();\n",
       "\ttree.size([height, width]); \n",
       "\tvar diagonal = d3.linkHorizontal().x(d => d.y).y(d => d.x)\n",
       "\t\n",
       "\tvar svg = d3.select(containerID).append(\"svg\")\n",
       "\t\t.attr(\"width\", width + margin.right + margin.left)\n",
       "\t\t.attr(\"height\", height + margin.top + margin.bottom)\n",
       "\t  .append(\"g\")\n",
       "\t\t.attr(\"transform\", \"translate(\" + margin.left + \",\" + margin.top + \")\");\n",
       "\n",
       "\n",
       "  \tconst gLink = svg.append(\"g\")\n",
       "      .attr(\"fill\", \"none\")\n",
       "      .attr(\"stroke\", \"#555\")\n",
       "      .attr(\"stroke-opacity\", 0.4)\n",
       "      .attr(\"stroke-width\", 1.5);\n",
       "\n",
       "\troot.x0 = height / 2;\n",
       "\troot.y0 = 0;\n",
       "\n",
       "\tfunction update(source) {\n",
       "\t    const duration = d3.event && d3.event.altKey ? 2500 : 250;\n",
       "\t    const nodes = root.descendants().reverse();\n",
       "\t    const links = root.links();\n",
       "\t\n",
       "\t    // Compute the new tree layout.\n",
       "\t    tree(root);\n",
       "\t\n",
       "\t    let left = root;\n",
       "\t    let right = root;\n",
       "\t    root.eachBefore(node => {\n",
       "\t      if (node.x < left.x) left = node;\n",
       "\t      if (node.x > right.x) right = node;\n",
       "\t    });\n",
       "\n",
       "\t\t// Normalize for fixed-depth.\n",
       "\t    nodes.forEach(function(d) { d.y = d.depth * depthMultiplier; });\n",
       "\n",
       "\t\n",
       "\t    const height = right.x - left.x + margin.top + margin.bottom;\n",
       "\t\n",
       "\t    const transition = svg.transition()\n",
       "\t        .duration(duration);\n",
       "\t\n",
       "\t \t// Update the nodes…\n",
       "\t  \tvar node = svg.selectAll(\"g.node\")\n",
       "\t\t  .data(nodes, function(d) { return d.id || (d.id = ++i); });\n",
       "\n",
       "\t\n",
       "\t    // Enter any new nodes at the parent's previous position.\n",
       "\t    const nodeEnter = node.enter().append(\"g\")\n",
       "\t        .attr(\"transform\", function(d) { return \"translate(\" + source.y0 + \",\" + source.x0 + \")\"; })\n",
       "\t\t  \t.attr(\"class\", \"node\")\n",
       "\t        .on(\"click\", click);\n",
       "\t\n",
       "\t    nodeEnter.append(\"circle\")\n",
       " \t\t  .attr(\"r\", 1e-6)\n",
       "\t\t  .style(\"fill\", function(d) { return d._children ? \"lightsteelblue\" : \"#fff\"; });\n",
       "\n",
       "\t\n",
       "\t    nodeEnter.append(\"text\")\n",
       "\t        .attr(\"dy\", \"0.35em\")\n",
       "\t        .attr(\"x\", function(d) { return d.children || d._children ? -13 : 13; })\n",
       "\t        .attr(\"text-anchor\", function(d) { return d.children || d._children ? \"end\" : \"start\"; })\n",
       "\t        .text(function(d){\n",
       "\t\t\t\treturn d.data.name;\n",
       "\t\t\t});\n",
       "\t\n",
       "\t    // Transition nodes to their new position.\n",
       "\t    const nodeUpdate = node.merge(nodeEnter).transition(transition)\n",
       "\t\t  \t.attr(\"transform\", function(d) { return \"translate(\" + d.y + \",\" + d.x + \")\"; });\n",
       "\n",
       "\t\tnodeUpdate.select(\"circle\")\n",
       "\t\t  .attr(\"r\", 10)\n",
       "\t\t  .style(\"fill\", function(d) { return d._children ? \"lightsteelblue\" : \"#fff\"; });\n",
       "\n",
       "\t\tnodeUpdate.select(\"text\")\n",
       "\t\t  .style(\"fill-opacity\", 1);\n",
       "\t    \n",
       "\t\t// Transition exiting nodes to the parent's new position.\n",
       "\t    const nodeExit = node.exit().transition(transition)\n",
       "\t\t  .attr(\"transform\", function(d) { return \"translate(\" + source.y + \",\" + source.x + \")\"; })\n",
       "\t\t  .remove();\n",
       "\n",
       "\t\tnodeExit.select(\"circle\")\n",
       "\t\t  .attr(\"r\", 1e-6);\n",
       "\t\n",
       "\t  \tnodeExit.select(\"text\")\n",
       "\t\t  .style(\"fill-opacity\", 1e-6);\n",
       "\t\n",
       "\t    // Update the links…\n",
       "\t    const link = gLink.selectAll(\"path\")\n",
       "\t      .data(links, d => d.target.id);\n",
       "\t\n",
       "\t    // Enter any new links at the parent's previous position.\n",
       "\t    const linkEnter = link.enter().append(\"path\")\n",
       "\t\t\t.attr(\"class\", \"link\")\n",
       "\t        .attr(\"d\", d => {\n",
       "\t          const o = {x: source.x0, y: source.y0};\n",
       "\t          return diagonal({source: o, target: o});\n",
       "\t        });\n",
       "\t\n",
       "\t    // Transition links to their new position.\n",
       "\t    link.merge(linkEnter).transition(transition)\n",
       "\t        .attr(\"d\", diagonal);\n",
       "\t\n",
       "\t    // Transition exiting nodes to the parent's new position.\n",
       "\t    link.exit().transition(transition).remove()\n",
       "\t        .attr(\"d\", d => {\n",
       "\t          const o = {x: source.x, y: source.y};\n",
       "\t          return diagonal({source: o, target: o});\n",
       "\t        });\n",
       "\t\n",
       "\t    // Stash the old positions for transition.\n",
       "\t    root.eachBefore(d => {\n",
       "\t      d.x0 = d.x;\n",
       "\t      d.y0 = d.y;\n",
       "\t    });\n",
       "\t }\n",
       "\n",
       "  \tupdate(root);\n",
       "\n",
       "\t// Toggle children on click.\n",
       "\tfunction click(event, d) {\n",
       "\t  if (d.children) {\n",
       "\t\td._children = d.children;\n",
       "\t\td.children = null;\n",
       "\t  } else {\n",
       "\t\td.children = d._children;\n",
       "\t\td._children = null;\n",
       "\t  }\n",
       "\t  update(d);\n",
       "\t}\n",
       "}\n",
       "var data = [{\"m_id\":\"M.01\",\"m_name\":\"Orbiter Mission\",\"o_id\":\"O.01\",\"o_name\":\"Characterize the atmosphere of Kepler 16b\"},{\"m_id\":\"M.01\",\"m_name\":\"Orbiter Mission\",\"o_id\":\"O.03\",\"o_name\":\"Characterize the gravitational field of Kepler 16b\"},{\"m_id\":\"M.01\",\"m_name\":\"Orbiter Mission\",\"o_id\":\"O.07\",\"o_name\":\"Characterize the energetic particule environment of the Kepler 16b binary star system\"},{\"m_id\":\"M.02\",\"m_name\":\"Lander Mission\",\"o_id\":\"O.01\",\"o_name\":\"Characterize the atmosphere of Kepler 16b\"},{\"m_id\":\"M.02\",\"m_name\":\"Lander Mission\",\"o_id\":\"O.07\",\"o_name\":\"Characterize the energetic particule environment of the Kepler 16b binary star system\"}]\n",
       "drawTree(data, '#figure3', \"Missions\", false, 960, 300, 150)\n",
       "</script>\n"
      ],
      "text/plain": [
       "<IPython.core.display.HTML object>"
      ]
     },
     "execution_count": 36,
     "metadata": {},
     "output_type": "execute_result"
    }
   ],
   "source": [
    "# Tutorial 4.8. P2: Visualize Missions \n",
    "# using D3.sj library\n",
    "from utilities import *\n",
    "df = dataframe(\"missions.json\")\n",
    "data = df.to_json(orient = \"records\")\n",
    "HTML(tree.safe_substitute(data=data))\n"
   ]
  },
  {
   "cell_type": "markdown",
   "metadata": {},
   "source": [
    "## Objectives\n",
    "The Kepler16b missions' objectives aggregate other lower-level objectives as depicted by the following diagram:"
   ]
  },
  {
   "cell_type": "code",
   "execution_count": 37,
   "metadata": {},
   "outputs": [
    {
     "data": {
      "text/markdown": [
       "![Alt text](http://www.plantuml.com/plantuml/img/TP8zRiCm38LtduB8dg99R0SeWYmPE_GCjCB4R6tHfHW3xkbhg_-5D0bF4hz7FIgGGQ015KqKl7Wgf7acPx1wkhlVFC2fdS-SaV8RWRK4QBs4eIKba0iyqj2HmgPkLe01bXeu73uGFDBn-1ktI-2kYYCR6el73YvCtJdDtUMvPOAhubucS99hiypZzWaSUT8h6JkOivgNMxViZQpYU_AsU2pNVdoWOOywGJ1K25Cmwh-iztdhRSAwuzSRpw4uGfz-opOFh1B06CgPV62Rqi0g3wnpmD3YaCcw_eUBlqJMwzXx4MURL6KH1_MfgZ-gBcAIttNl)"
      ],
      "text/plain": [
       "<IPython.core.display.Markdown object>"
      ]
     },
     "execution_count": 37,
     "metadata": {},
     "output_type": "execute_result"
    }
   ],
   "source": [
    "# Tutorial 4.9. P3: Visualize Objectives \n",
    "# Using PlantUML library\n",
    "from utilities import *\n",
    "df = dataframe(\"objectives.json\")\n",
    "objectives1 = todict(df, 'o1_id', 'o1_name')\n",
    "objectives2 = todict(df, 'o2_id', 'o2_name')\n",
    "aggregations = tolists(df, 'o1_id', 'o2_id')\n",
    "diagram(objects(union(objectives1, objectives2), aggregations, 'o--', 'objective'))"
   ]
  },
  {
   "cell_type": "markdown",
   "metadata": {},
   "source": [
    "## Components\n",
    "The Kelper16 missions' components are organized in a physical decomposition hierarchy as shown below."
   ]
  },
  {
   "cell_type": "code",
   "execution_count": 38,
   "metadata": {},
   "outputs": [
    {
     "data": {
      "text/markdown": [
       "![Alt text](http://www.plantuml.com/plantuml/img/VPF1Ri8m44Jl-OeL1mwLg2100XNY0YeSe5IYFx1nbiPjOaUs8zI_hq6219FuPaqoRvpCRaud0qQ2uj-PWPGhOePB4UXVBafKM82GAMagOJGCD1cmHoiRgUm3GO5CVgm3UglNuUWD3YhXXXJii18iW-EVDbJq03LSdiDYmMHHMfimosNJ6jRMOucCcCAJkVb2Z-yXzLEUBu0gqG-veJ_w8NsBIf3M3Qi_VLnRlp9I1UQj-MClP593LltrjfKmyHAcZMjGJlR5LiZK2ubgoEQZlsebH5v2N1Fsn38Kd7NyaDZBcTMSz_mwc4TvCcTKr43Cl8XvOooKBAjSswbklSgyczDeTwDa9L9Oeq5dh3tTscBtN5-J3oNPhR4dxTWznTfMToZIhdtoj1dTdS_hvAamljkwFzTjxhgWBuF1RTDS8NI5iIjCN67g2f4hnAumSuLvy0y=)"
      ],
      "text/plain": [
       "<IPython.core.display.Markdown object>"
      ]
     },
     "execution_count": 38,
     "metadata": {},
     "output_type": "execute_result"
    }
   ],
   "source": [
    "# Tutorial 4.10. P4: Visualize Components\n",
    "# Using PlantUML library\n",
    "from utilities import *\n",
    "df = dataframe(\"components.json\")\n",
    "components1 = todict(df, 'c1_id', 'c1_name')\n",
    "components2 = todict(df, 'c2_id', 'c2_name')\n",
    "compositions = tolists(df, 'c2_id', 'c1_id')\n",
    "diagram('left to right direction\\nskinparam nodesep 10\\n'+objects(union(components1, components2), compositions, '*--', 'component'))"
   ]
  },
  {
   "cell_type": "markdown",
   "metadata": {},
   "source": [
    "## Mass Rollup\n",
    "The Kelper16 missions' components are characterized by their masses. Those masses are rolled up the physical decomposition hierarchy as shown below.\""
   ]
  },
  {
   "cell_type": "code",
   "execution_count": 42,
   "metadata": {},
   "outputs": [
    {
     "name": "stdout",
     "output_type": "stream",
     "text": [
      "Package           Version\n",
      "----------------- -----------\n",
      "appnope           0.1.4\n",
      "asttokens         3.0.0\n",
      "comm              0.2.2\n",
      "debugpy           1.8.11\n",
      "decorator         5.1.1\n",
      "executing         2.1.0\n",
      "httplib2          0.22.0\n",
      "igraph            0.11.8\n",
      "ipykernel         6.29.5\n",
      "ipython           8.30.0\n",
      "jedi              0.19.2\n",
      "jupyter_client    8.6.3\n",
      "jupyter_core      5.7.2\n",
      "matplotlib-inline 0.1.7\n",
      "nest-asyncio      1.6.0\n",
      "numpy             2.2.0\n",
      "packaging         24.2\n",
      "pandas            2.2.3\n",
      "parso             0.8.4\n",
      "pexpect           4.9.0\n",
      "pip               24.2\n",
      "plantuml          0.3.0\n",
      "platformdirs      4.3.6\n",
      "prompt_toolkit    3.0.48\n",
      "psutil            6.1.0\n",
      "ptyprocess        0.7.0\n",
      "pure_eval         0.2.3\n",
      "Pygments          2.18.0\n",
      "pyparsing         3.2.0\n",
      "python-dateutil   2.9.0.post0\n",
      "pytz              2024.2\n",
      "pyzmq             26.2.0\n",
      "six               1.17.0\n",
      "stack-data        0.6.3\n",
      "texttable         1.7.0\n",
      "tornado           6.4.2\n",
      "traitlets         5.14.3\n",
      "tzdata            2024.2\n",
      "wcwidth           0.2.13\n",
      "Note: you may need to restart the kernel to use updated packages.\n"
     ]
    }
   ],
   "source": [
    "pip list"
   ]
  },
  {
   "cell_type": "code",
   "execution_count": 41,
   "metadata": {},
   "outputs": [
    {
     "ename": "ImportError",
     "evalue": "Missing optional dependency 'Jinja2'. DataFrame.style requires jinja2. Use pip or conda to install Jinja2.",
     "output_type": "error",
     "traceback": [
      "\u001b[0;31m---------------------------------------------------------------------------\u001b[0m",
      "\u001b[0;31mModuleNotFoundError\u001b[0m                       Traceback (most recent call last)",
      "File \u001b[0;32m/Library/Frameworks/Python.framework/Versions/3.12/lib/python3.12/site-packages/pandas/compat/_optional.py:135\u001b[0m, in \u001b[0;36mimport_optional_dependency\u001b[0;34m(name, extra, errors, min_version)\u001b[0m\n\u001b[1;32m    134\u001b[0m \u001b[38;5;28;01mtry\u001b[39;00m:\n\u001b[0;32m--> 135\u001b[0m     module \u001b[38;5;241m=\u001b[39m \u001b[43mimportlib\u001b[49m\u001b[38;5;241;43m.\u001b[39;49m\u001b[43mimport_module\u001b[49m\u001b[43m(\u001b[49m\u001b[43mname\u001b[49m\u001b[43m)\u001b[49m\n\u001b[1;32m    136\u001b[0m \u001b[38;5;28;01mexcept\u001b[39;00m \u001b[38;5;167;01mImportError\u001b[39;00m:\n",
      "File \u001b[0;32m/Library/Frameworks/Python.framework/Versions/3.12/lib/python3.12/importlib/__init__.py:90\u001b[0m, in \u001b[0;36mimport_module\u001b[0;34m(name, package)\u001b[0m\n\u001b[1;32m     89\u001b[0m         level \u001b[38;5;241m+\u001b[39m\u001b[38;5;241m=\u001b[39m \u001b[38;5;241m1\u001b[39m\n\u001b[0;32m---> 90\u001b[0m \u001b[38;5;28;01mreturn\u001b[39;00m \u001b[43m_bootstrap\u001b[49m\u001b[38;5;241;43m.\u001b[39;49m\u001b[43m_gcd_import\u001b[49m\u001b[43m(\u001b[49m\u001b[43mname\u001b[49m\u001b[43m[\u001b[49m\u001b[43mlevel\u001b[49m\u001b[43m:\u001b[49m\u001b[43m]\u001b[49m\u001b[43m,\u001b[49m\u001b[43m \u001b[49m\u001b[43mpackage\u001b[49m\u001b[43m,\u001b[49m\u001b[43m \u001b[49m\u001b[43mlevel\u001b[49m\u001b[43m)\u001b[49m\n",
      "File \u001b[0;32m<frozen importlib._bootstrap>:1387\u001b[0m, in \u001b[0;36m_gcd_import\u001b[0;34m(name, package, level)\u001b[0m\n",
      "File \u001b[0;32m<frozen importlib._bootstrap>:1360\u001b[0m, in \u001b[0;36m_find_and_load\u001b[0;34m(name, import_)\u001b[0m\n",
      "File \u001b[0;32m<frozen importlib._bootstrap>:1324\u001b[0m, in \u001b[0;36m_find_and_load_unlocked\u001b[0;34m(name, import_)\u001b[0m\n",
      "\u001b[0;31mModuleNotFoundError\u001b[0m: No module named 'jinja2'",
      "\nDuring handling of the above exception, another exception occurred:\n",
      "\u001b[0;31mImportError\u001b[0m                               Traceback (most recent call last)",
      "Cell \u001b[0;32mIn[41], line 12\u001b[0m\n\u001b[1;32m     10\u001b[0m df\u001b[38;5;241m.\u001b[39mloc[:, \u001b[38;5;124m'\u001b[39m\u001b[38;5;124mc1_mass\u001b[39m\u001b[38;5;124m'\u001b[39m] \u001b[38;5;241m=\u001b[39m graph\u001b[38;5;241m.\u001b[39mvs[\u001b[38;5;124m\"\u001b[39m\u001b[38;5;124mmass\u001b[39m\u001b[38;5;124m\"\u001b[39m]\n\u001b[1;32m     11\u001b[0m df \u001b[38;5;241m=\u001b[39m df\u001b[38;5;241m.\u001b[39mrename(columns\u001b[38;5;241m=\u001b[39m{\u001b[38;5;124m\"\u001b[39m\u001b[38;5;124mc1_id\u001b[39m\u001b[38;5;124m\"\u001b[39m: \u001b[38;5;124m\"\u001b[39m\u001b[38;5;124mId\u001b[39m\u001b[38;5;124m\"\u001b[39m, \u001b[38;5;124m\"\u001b[39m\u001b[38;5;124mc1_name\u001b[39m\u001b[38;5;124m\"\u001b[39m: \u001b[38;5;124m\"\u001b[39m\u001b[38;5;124mName\u001b[39m\u001b[38;5;124m\"\u001b[39m, \u001b[38;5;124m\"\u001b[39m\u001b[38;5;124mc1_mass\u001b[39m\u001b[38;5;124m\"\u001b[39m: \u001b[38;5;124m\"\u001b[39m\u001b[38;5;124mMass\u001b[39m\u001b[38;5;124m\"\u001b[39m})\n\u001b[0;32m---> 12\u001b[0m style \u001b[38;5;241m=\u001b[39m \u001b[43mdf\u001b[49m\u001b[38;5;241;43m.\u001b[39;49m\u001b[43mstyle\u001b[49m\u001b[38;5;241m.\u001b[39mhide(axis\u001b[38;5;241m=\u001b[39m\u001b[38;5;124m\"\u001b[39m\u001b[38;5;124mindex\u001b[39m\u001b[38;5;124m\"\u001b[39m)\u001b[38;5;241m.\u001b[39mset_properties(\u001b[38;5;241m*\u001b[39m\u001b[38;5;241m*\u001b[39m{\u001b[38;5;124m'\u001b[39m\u001b[38;5;124mtext-align\u001b[39m\u001b[38;5;124m'\u001b[39m: \u001b[38;5;124m'\u001b[39m\u001b[38;5;124mleft\u001b[39m\u001b[38;5;124m'\u001b[39m, \u001b[38;5;124m'\u001b[39m\u001b[38;5;124mfont-size\u001b[39m\u001b[38;5;124m'\u001b[39m: \u001b[38;5;124m'\u001b[39m\u001b[38;5;124m12pt\u001b[39m\u001b[38;5;124m'\u001b[39m,})\n\u001b[1;32m     13\u001b[0m style\u001b[38;5;241m.\u001b[39mformat(precision\u001b[38;5;241m=\u001b[39m\u001b[38;5;241m2\u001b[39m)\u001b[38;5;241m.\u001b[39mset_table_styles([\u001b[38;5;28mdict\u001b[39m(selector\u001b[38;5;241m=\u001b[39m\u001b[38;5;124m'\u001b[39m\u001b[38;5;124mth\u001b[39m\u001b[38;5;124m'\u001b[39m, props\u001b[38;5;241m=\u001b[39m[(\u001b[38;5;124m'\u001b[39m\u001b[38;5;124mtext-align\u001b[39m\u001b[38;5;124m'\u001b[39m, \u001b[38;5;124m'\u001b[39m\u001b[38;5;124mleft\u001b[39m\u001b[38;5;124m'\u001b[39m)])])\n",
      "File \u001b[0;32m/Library/Frameworks/Python.framework/Versions/3.12/lib/python3.12/site-packages/pandas/core/frame.py:1442\u001b[0m, in \u001b[0;36mDataFrame.style\u001b[0;34m(self)\u001b[0m\n\u001b[1;32m   1422\u001b[0m \u001b[38;5;129m@property\u001b[39m\n\u001b[1;32m   1423\u001b[0m \u001b[38;5;28;01mdef\u001b[39;00m \u001b[38;5;21mstyle\u001b[39m(\u001b[38;5;28mself\u001b[39m) \u001b[38;5;241m-\u001b[39m\u001b[38;5;241m>\u001b[39m Styler:\n\u001b[1;32m   1424\u001b[0m \u001b[38;5;250m    \u001b[39m\u001b[38;5;124;03m\"\"\"\u001b[39;00m\n\u001b[1;32m   1425\u001b[0m \u001b[38;5;124;03m    Returns a Styler object.\u001b[39;00m\n\u001b[1;32m   1426\u001b[0m \n\u001b[0;32m   (...)\u001b[0m\n\u001b[1;32m   1440\u001b[0m \u001b[38;5;124;03m    `Table Visualization <../../user_guide/style.ipynb>`_ for more examples.\u001b[39;00m\n\u001b[1;32m   1441\u001b[0m \u001b[38;5;124;03m    \"\"\"\u001b[39;00m\n\u001b[0;32m-> 1442\u001b[0m     \u001b[38;5;28;01mfrom\u001b[39;00m \u001b[38;5;21;01mpandas\u001b[39;00m\u001b[38;5;21;01m.\u001b[39;00m\u001b[38;5;21;01mio\u001b[39;00m\u001b[38;5;21;01m.\u001b[39;00m\u001b[38;5;21;01mformats\u001b[39;00m\u001b[38;5;21;01m.\u001b[39;00m\u001b[38;5;21;01mstyle\u001b[39;00m \u001b[38;5;28;01mimport\u001b[39;00m Styler\n\u001b[1;32m   1444\u001b[0m     \u001b[38;5;28;01mreturn\u001b[39;00m Styler(\u001b[38;5;28mself\u001b[39m)\n",
      "File \u001b[0;32m/Library/Frameworks/Python.framework/Versions/3.12/lib/python3.12/site-packages/pandas/io/formats/style.py:44\u001b[0m\n\u001b[1;32m     40\u001b[0m \u001b[38;5;28;01mfrom\u001b[39;00m \u001b[38;5;21;01mpandas\u001b[39;00m\u001b[38;5;21;01m.\u001b[39;00m\u001b[38;5;21;01mcore\u001b[39;00m\u001b[38;5;21;01m.\u001b[39;00m\u001b[38;5;21;01mshared_docs\u001b[39;00m \u001b[38;5;28;01mimport\u001b[39;00m _shared_docs\n\u001b[1;32m     42\u001b[0m \u001b[38;5;28;01mfrom\u001b[39;00m \u001b[38;5;21;01mpandas\u001b[39;00m\u001b[38;5;21;01m.\u001b[39;00m\u001b[38;5;21;01mio\u001b[39;00m\u001b[38;5;21;01m.\u001b[39;00m\u001b[38;5;21;01mformats\u001b[39;00m\u001b[38;5;21;01m.\u001b[39;00m\u001b[38;5;21;01mformat\u001b[39;00m \u001b[38;5;28;01mimport\u001b[39;00m save_to_buffer\n\u001b[0;32m---> 44\u001b[0m jinja2 \u001b[38;5;241m=\u001b[39m \u001b[43mimport_optional_dependency\u001b[49m\u001b[43m(\u001b[49m\u001b[38;5;124;43m\"\u001b[39;49m\u001b[38;5;124;43mjinja2\u001b[39;49m\u001b[38;5;124;43m\"\u001b[39;49m\u001b[43m,\u001b[49m\u001b[43m \u001b[49m\u001b[43mextra\u001b[49m\u001b[38;5;241;43m=\u001b[39;49m\u001b[38;5;124;43m\"\u001b[39;49m\u001b[38;5;124;43mDataFrame.style requires jinja2.\u001b[39;49m\u001b[38;5;124;43m\"\u001b[39;49m\u001b[43m)\u001b[49m\n\u001b[1;32m     46\u001b[0m \u001b[38;5;28;01mfrom\u001b[39;00m \u001b[38;5;21;01mpandas\u001b[39;00m\u001b[38;5;21;01m.\u001b[39;00m\u001b[38;5;21;01mio\u001b[39;00m\u001b[38;5;21;01m.\u001b[39;00m\u001b[38;5;21;01mformats\u001b[39;00m\u001b[38;5;21;01m.\u001b[39;00m\u001b[38;5;21;01mstyle_render\u001b[39;00m \u001b[38;5;28;01mimport\u001b[39;00m (\n\u001b[1;32m     47\u001b[0m     CSSProperties,\n\u001b[1;32m     48\u001b[0m     CSSStyles,\n\u001b[0;32m   (...)\u001b[0m\n\u001b[1;32m     56\u001b[0m     refactor_levels,\n\u001b[1;32m     57\u001b[0m )\n\u001b[1;32m     59\u001b[0m \u001b[38;5;28;01mif\u001b[39;00m TYPE_CHECKING:\n",
      "File \u001b[0;32m/Library/Frameworks/Python.framework/Versions/3.12/lib/python3.12/site-packages/pandas/compat/_optional.py:138\u001b[0m, in \u001b[0;36mimport_optional_dependency\u001b[0;34m(name, extra, errors, min_version)\u001b[0m\n\u001b[1;32m    136\u001b[0m \u001b[38;5;28;01mexcept\u001b[39;00m \u001b[38;5;167;01mImportError\u001b[39;00m:\n\u001b[1;32m    137\u001b[0m     \u001b[38;5;28;01mif\u001b[39;00m errors \u001b[38;5;241m==\u001b[39m \u001b[38;5;124m\"\u001b[39m\u001b[38;5;124mraise\u001b[39m\u001b[38;5;124m\"\u001b[39m:\n\u001b[0;32m--> 138\u001b[0m         \u001b[38;5;28;01mraise\u001b[39;00m \u001b[38;5;167;01mImportError\u001b[39;00m(msg)\n\u001b[1;32m    139\u001b[0m     \u001b[38;5;28;01mreturn\u001b[39;00m \u001b[38;5;28;01mNone\u001b[39;00m\n\u001b[1;32m    141\u001b[0m \u001b[38;5;66;03m# Handle submodules: if we have submodule, grab parent module from sys.modules\u001b[39;00m\n",
      "\u001b[0;31mImportError\u001b[0m: Missing optional dependency 'Jinja2'. DataFrame.style requires jinja2. Use pip or conda to install Jinja2."
     ]
    }
   ],
   "source": [
    "# Tutorial 4.11. P5: Visualize Mass Rollup\n",
    "# Using pandas\n",
    "from utilities import *\n",
    "df = dataframe(\"components.json\")\n",
    "components = tolist(df, 'c1_id')\n",
    "compositions = tolists(df, 'c2_id', 'c1_id')\n",
    "masses = [float(x) if not pd.isna(x) else 0 for x in tolist(df, 'c1_mass')]\n",
    "graph = rollup(components, compositions, \"mass\", masses)\n",
    "df = df[['c1_id', 'c1_name', 'c1_mass']]\n",
    "df.loc[:, 'c1_mass'] = graph.vs[\"mass\"]\n",
    "df = df.rename(columns={\"c1_id\": \"Id\", \"c1_name\": \"Name\", \"c1_mass\": \"Mass\"})\n",
    "style = df.style.hide(axis=\"index\").set_properties(**{'text-align': 'left', 'font-size': '12pt',})\n",
    "style.format(precision=2).set_table_styles([dict(selector='th', props=[('text-align', 'left')])])"
   ]
  }
 ],
 "metadata": {
  "kernelspec": {
   "display_name": "Python 3",
   "language": "python",
   "name": "python3"
  },
  "language_info": {
   "codemirror_mode": {
    "name": "ipython",
    "version": 3
   },
   "file_extension": ".py",
   "mimetype": "text/x-python",
   "name": "python",
   "nbconvert_exporter": "python",
   "pygments_lexer": "ipython3",
   "version": "3.12.6"
  }
 },
 "nbformat": 4,
 "nbformat_minor": 2
}
